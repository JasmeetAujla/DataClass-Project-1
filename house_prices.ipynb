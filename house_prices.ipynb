{
 "cells": [
  {
   "cell_type": "code",
   "execution_count": 20,
   "metadata": {},
   "outputs": [],
   "source": [
    "import gmaps\n",
    "import pandas as pd \n",
    "import matplotlib.pyplot as plt\n",
    "import numpy as np\n",
    "from config import gkey\n",
    "gmaps.configure(api_key=gkey)"
   ]
  },
  {
   "cell_type": "code",
   "execution_count": 21,
   "metadata": {},
   "outputs": [
    {
     "data": {
      "text/html": [
       "<div>\n",
       "<style scoped>\n",
       "    .dataframe tbody tr th:only-of-type {\n",
       "        vertical-align: middle;\n",
       "    }\n",
       "\n",
       "    .dataframe tbody tr th {\n",
       "        vertical-align: top;\n",
       "    }\n",
       "\n",
       "    .dataframe thead th {\n",
       "        text-align: right;\n",
       "    }\n",
       "</style>\n",
       "<table border=\"1\" class=\"dataframe\">\n",
       "  <thead>\n",
       "    <tr style=\"text-align: right;\">\n",
       "      <th></th>\n",
       "      <th>AreaName</th>\n",
       "      <th>Price ($)</th>\n",
       "      <th>lat</th>\n",
       "      <th>lng</th>\n",
       "    </tr>\n",
       "  </thead>\n",
       "  <tbody>\n",
       "    <tr>\n",
       "      <td>0</td>\n",
       "      <td>Richview</td>\n",
       "      <td>999888</td>\n",
       "      <td>43.679882</td>\n",
       "      <td>-79.544266</td>\n",
       "    </tr>\n",
       "    <tr>\n",
       "      <td>1</td>\n",
       "      <td>Chedoke Park B</td>\n",
       "      <td>399900</td>\n",
       "      <td>43.250000</td>\n",
       "      <td>-79.904396</td>\n",
       "    </tr>\n",
       "    <tr>\n",
       "      <td>2</td>\n",
       "      <td>Ainslie Wood East</td>\n",
       "      <td>479000</td>\n",
       "      <td>43.251690</td>\n",
       "      <td>-79.919357</td>\n",
       "    </tr>\n",
       "    <tr>\n",
       "      <td>3</td>\n",
       "      <td>Greenford</td>\n",
       "      <td>285900</td>\n",
       "      <td>43.227161</td>\n",
       "      <td>-79.767403</td>\n",
       "    </tr>\n",
       "    <tr>\n",
       "      <td>4</td>\n",
       "      <td>Downtown</td>\n",
       "      <td>362000</td>\n",
       "      <td>43.651478</td>\n",
       "      <td>-79.368118</td>\n",
       "    </tr>\n",
       "    <tr>\n",
       "      <td>...</td>\n",
       "      <td>...</td>\n",
       "      <td>...</td>\n",
       "      <td>...</td>\n",
       "      <td>...</td>\n",
       "    </tr>\n",
       "    <tr>\n",
       "      <td>25346</td>\n",
       "      <td>Bayshore</td>\n",
       "      <td>154900</td>\n",
       "      <td>45.353519</td>\n",
       "      <td>-75.807793</td>\n",
       "    </tr>\n",
       "    <tr>\n",
       "      <td>25347</td>\n",
       "      <td>Orléans</td>\n",
       "      <td>624900</td>\n",
       "      <td>45.441273</td>\n",
       "      <td>-75.532745</td>\n",
       "    </tr>\n",
       "    <tr>\n",
       "      <td>25348</td>\n",
       "      <td>Greely</td>\n",
       "      <td>899000</td>\n",
       "      <td>45.238155</td>\n",
       "      <td>-75.602249</td>\n",
       "    </tr>\n",
       "    <tr>\n",
       "      <td>25349</td>\n",
       "      <td>Rockcliffe - Manor Park</td>\n",
       "      <td>295000</td>\n",
       "      <td>45.453838</td>\n",
       "      <td>-75.650040</td>\n",
       "    </tr>\n",
       "    <tr>\n",
       "      <td>25350</td>\n",
       "      <td>Stoney Creek</td>\n",
       "      <td>1595000</td>\n",
       "      <td>43.220070</td>\n",
       "      <td>-79.689835</td>\n",
       "    </tr>\n",
       "  </tbody>\n",
       "</table>\n",
       "<p>24868 rows × 4 columns</p>\n",
       "</div>"
      ],
      "text/plain": [
       "                      AreaName  Price ($)        lat        lng\n",
       "0                     Richview     999888  43.679882 -79.544266\n",
       "1               Chedoke Park B     399900  43.250000 -79.904396\n",
       "2            Ainslie Wood East     479000  43.251690 -79.919357\n",
       "3                    Greenford     285900  43.227161 -79.767403\n",
       "4                     Downtown     362000  43.651478 -79.368118\n",
       "...                        ...        ...        ...        ...\n",
       "25346                 Bayshore     154900  45.353519 -75.807793\n",
       "25347                  Orléans     624900  45.441273 -75.532745\n",
       "25348                   Greely     899000  45.238155 -75.602249\n",
       "25349  Rockcliffe - Manor Park     295000  45.453838 -75.650040\n",
       "25350             Stoney Creek    1595000  43.220070 -79.689835\n",
       "\n",
       "[24868 rows x 4 columns]"
      ]
     },
     "execution_count": 21,
     "metadata": {},
     "output_type": "execute_result"
    }
   ],
   "source": [
    "file = pd.read_csv('properties.csv')\n",
    "original_df = file\n",
    "price_df = original_df.drop(columns=['Unnamed: 0' , 'Address'])\n",
    "clean_price_df = price_df.dropna(how = 'any')\n",
    "clean_price_df "
   ]
  },
  {
   "cell_type": "code",
   "execution_count": 22,
   "metadata": {},
   "outputs": [],
   "source": [
    "locations = clean_price_df[[\"lat\", \"lng\"]]\n",
    "\n",
    "\n",
    "price = clean_price_df[\"Price ($)\"].astype(float)"
   ]
  },
  {
   "cell_type": "code",
   "execution_count": 25,
   "metadata": {},
   "outputs": [
    {
     "data": {
      "application/vnd.jupyter.widget-view+json": {
       "model_id": "c86f7ad9a8654dd89ad99e2c8ca73ed6",
       "version_major": 2,
       "version_minor": 0
      },
      "text/plain": [
       "Figure(layout=FigureLayout(height='420px'))"
      ]
     },
     "metadata": {},
     "output_type": "display_data"
    }
   ],
   "source": [
    "# Plot Heatmap\n",
    "fig = gmaps.figure()\n",
    "\n",
    "# Create heat layer\n",
    "price_map = gmaps.heatmap_layer(locations, weights=price, \n",
    "                                 dissipating=False, max_intensity=8,\n",
    "                                 point_radius=1)\n",
    "\n",
    "\n",
    "# Add layer\n",
    "fig.add_layer(price_map)\n",
    "\n",
    "# Display figure\n",
    "fig"
   ]
  },
  {
   "cell_type": "code",
   "execution_count": 11,
   "metadata": {},
   "outputs": [
    {
     "data": {
      "text/plain": [
       "<matplotlib.axes._subplots.AxesSubplot at 0x29a79751448>"
      ]
     },
     "execution_count": 11,
     "metadata": {},
     "output_type": "execute_result"
    },
    {
     "data": {
      "image/png": "[encoded data removed]",
      "text/plain": [
       "<Figure size 432x288 with 1 Axes>"
      ]
     },
     "metadata": {
      "needs_background": "light"
     },
     "output_type": "display_data"
    }
   ],
   "source": [
    "brampton_df = clean_price_df.loc[clean_price_df[\"AreaName\"] == \"Brampton\", :]\n",
    "bdescribe_df = brampton_df.describe()\n",
    "price_stat_bram = bdescribe_df['Price ($)'].astype(int)\n",
    "bdescribe_df.plot.bar(y ='Price ($)')\n"
   ]
  },
  {
   "cell_type": "code",
   "execution_count": 12,
   "metadata": {},
   "outputs": [
    {
     "data": {
      "text/plain": [
       "<matplotlib.axes._subplots.AxesSubplot at 0x29a79dae448>"
      ]
     },
     "execution_count": 12,
     "metadata": {},
     "output_type": "execute_result"
    },
    {
     "data": {
      "image/png": "[encoded data removed]",
      "text/plain": [
       "<Figure size 432x288 with 1 Axes>"
      ]
     },
     "metadata": {
      "needs_background": "light"
     },
     "output_type": "display_data"
    }
   ],
   "source": [
    "mississauga_df = clean_price_df.loc[clean_price_df[\"AreaName\"] == \"Mississauga\", :]\n",
    "mdescribe_df = mississauga_df.describe()\n",
    "price_stat_miss = mdescribe_df['Price ($)'].astype(int)\n",
    "mdescribe_df.plot.bar(y ='Price ($)')"
   ]
  },
  {
   "cell_type": "code",
   "execution_count": 13,
   "metadata": {},
   "outputs": [
    {
     "data": {
      "text/plain": [
       "<matplotlib.axes._subplots.AxesSubplot at 0x29a7ae10e08>"
      ]
     },
     "execution_count": 13,
     "metadata": {},
     "output_type": "execute_result"
    },
    {
     "data": {
      "image/png": "[encoded data removed]",
      "text/plain": [
       "<Figure size 432x288 with 1 Axes>"
      ]
     },
     "metadata": {
      "needs_background": "light"
     },
     "output_type": "display_data"
    }
   ],
   "source": [
    "oakville_df = clean_price_df.loc[clean_price_df[\"AreaName\"] == \"Oakville\", :]\n",
    "odescribe_df = oakville_df .describe()\n",
    "price_stat_oak = odescribe_df['Price ($)'].astype(int)\n",
    "price_stat_oak\n",
    "odescribe_df.plot.bar(y ='Price ($)')"
   ]
  },
  {
   "cell_type": "code",
   "execution_count": 14,
   "metadata": {},
   "outputs": [
    {
     "data": {
      "text/plain": [
       "<matplotlib.axes._subplots.AxesSubplot at 0x29a7ae844c8>"
      ]
     },
     "execution_count": 14,
     "metadata": {},
     "output_type": "execute_result"
    },
    {
     "data": {
      "image/png": "[encoded data removed]",
      "text/plain": [
       "<Figure size 432x288 with 1 Axes>"
      ]
     },
     "metadata": {
      "needs_background": "light"
     },
     "output_type": "display_data"
    }
   ],
   "source": [
    "burlington_df = clean_price_df.loc[clean_price_df[\"AreaName\"] == \"Burlington\", :]\n",
    "bdescribe_df = burlington_df.describe()\n",
    "price_stat_bur = bdescribe_df['Price ($)'].astype(int)\n",
    "price_stat_bur\n",
    "bdescribe_df.plot.bar(y ='Price ($)')\n"
   ]
  },
  {
   "cell_type": "code",
   "execution_count": null,
   "metadata": {},
   "outputs": [],
   "source": []
  }
 ],
 "metadata": {
  "kernelspec": {
   "display_name": "Python 3",
   "language": "python",
   "name": "python3"
  },
  "language_info": {
   "codemirror_mode": {
    "name": "ipython",
    "version": 3
   },
   "file_extension": ".py",
   "mimetype": "text/x-python",
   "name": "python",
   "nbconvert_exporter": "python",
   "pygments_lexer": "ipython3",
   "version": "3.7.4"
  }
 },
 "nbformat": 4,
 "nbformat_minor": 2
}
